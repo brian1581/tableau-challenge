{
 "cells": [
  {
   "cell_type": "code",
   "execution_count": null,
   "metadata": {},
   "outputs": [],
   "source": [
    "import os\n",
    "import os.path\n",
    "import time\n",
    "import csv\n",
    "import numpy\n",
    "from datetime import datetime\n",
    "import pandas as pd\n",
    "import numpy as np"
   ]
  },
  {
   "cell_type": "code",
   "execution_count": null,
   "metadata": {},
   "outputs": [],
   "source": [
    "os.chdir(\"C:/Users/Wreedles/Desktop/Tableau_Homework/Citibike_Data\")"
   ]
  },
  {
   "cell_type": "code",
   "execution_count": null,
   "metadata": {},
   "outputs": [],
   "source": [
    "new = os.getcwd().replace(\"\\\\\",\"/\")"
   ]
  },
  {
   "cell_type": "code",
   "execution_count": null,
   "metadata": {},
   "outputs": [],
   "source": [
    "files = []\n",
    "for dirpath, dirnames, filenames in os.walk(new):\n",
    "    for filename in [f for f in filenames if f.endswith(\".csv\")]:\n",
    "        filepaths.append(\".\" + os.path.join(dirpath, filename)[len(new):].replace(\"\\\\\",\"/\"))"
   ]
  },
  {
   "cell_type": "code",
   "execution_count": null,
   "metadata": {},
   "outputs": [],
   "source": [
    "station = {}\n",
    "name = {}\n",
    "lat = {}\n",
    "lng = {}\n",
    "\n",
    "for file in files:\n",
    "    with open(filename, newline=\"\") as csvfile:\n",
    "        csvreader = csv.reader(csvfile, delimiter=\",\")\n",
    "        # skip header\n",
    "        next(csvreader)\n",
    "        \n",
    "        # interate through each row in csv\n",
    "        for row in csvreader:\n",
    "            \n",
    "            rowcounter += 1\n",
    "\n",
    "            # add key and initialize value if station not in dictionary\n",
    "            if row[3] not in station:\n",
    "                station[row[3]] = 0\n",
    "            # set increments\n",
    "            station[row[3]] += 1\n",
    "            \n",
    "            if row[3] not in name:\n",
    "                name[row[3]] = row[4]\n",
    "                \n",
    "            if row[3] not in lat:\n",
    "                if row[5] != '0.0':\n",
    "                    lat[row[3]] = float(row[5])\n",
    "                \n",
    "            if row[3] not in lng:\n",
    "                if row[6] != '0.0':\n",
    "                    lng[row[3]] = float(row[6])"
   ]
  },
  {
   "cell_type": "code",
   "execution_count": null,
   "metadata": {},
   "outputs": [],
   "source": [
    "station_df = pd.DataFrame([station, name, lat, lng]).T\n",
    "station_df.columns = ['rides', 'start_station_name', 'start_station_lat', 'start_station_lng']"
   ]
  },
  {
   "cell_type": "code",
   "execution_count": null,
   "metadata": {},
   "outputs": [],
   "source": [
    "station_df.index.name = 'start_station_id'"
   ]
  },
  {
   "cell_type": "code",
   "execution_count": null,
   "metadata": {},
   "outputs": [],
   "source": [
    "station_df.to_csv(\"Resources/startstations.csv\")"
   ]
  },
  {
   "cell_type": "code",
   "execution_count": null,
   "metadata": {},
   "outputs": [],
   "source": []
  }
 ],
 "metadata": {
  "kernelspec": {
   "display_name": "Python 3",
   "language": "python",
   "name": "python3"
  },
  "language_info": {
   "codemirror_mode": {
    "name": "ipython",
    "version": 3
   },
   "file_extension": ".py",
   "mimetype": "text/x-python",
   "name": "python",
   "nbconvert_exporter": "python",
   "pygments_lexer": "ipython3",
   "version": "3.6.9"
  }
 },
 "nbformat": 4,
 "nbformat_minor": 2
}
